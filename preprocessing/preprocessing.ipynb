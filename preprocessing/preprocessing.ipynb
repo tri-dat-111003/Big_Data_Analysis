{
 "cells": [
  {
   "cell_type": "code",
   "execution_count": 1,
   "id": "5b5a1e30",
   "metadata": {},
   "outputs": [],
   "source": [
    "from pyspark.sql import SparkSession\n",
    "from pyspark.sql.functions import *\n",
    "\n",
    "# Tạo SparkSession\n",
    "spark = SparkSession.builder \\\n",
    "    .appName(\"USTrafficAccidents\") \\\n",
    "    .getOrCreate()"
   ]
  },
  {
   "cell_type": "code",
   "execution_count": 2,
   "id": "deb9ceb5",
   "metadata": {},
   "outputs": [],
   "source": [
    "# Đọc file CSV\n",
    "file_path = \"dataset/US_Accidents.csv\"  \n",
    "df = spark.read.csv(file_path, header=True, inferSchema=True)"
   ]
  },
  {
   "cell_type": "code",
   "execution_count": 3,
   "id": "c650f245",
   "metadata": {},
   "outputs": [
    {
     "name": "stdout",
     "output_type": "stream",
     "text": [
      "root\n",
      " |-- ID: string (nullable = true)\n",
      " |-- Source: string (nullable = true)\n",
      " |-- Severity: integer (nullable = true)\n",
      " |-- Start_Time: string (nullable = true)\n",
      " |-- End_Time: string (nullable = true)\n",
      " |-- Start_Lat: double (nullable = true)\n",
      " |-- Start_Lng: double (nullable = true)\n",
      " |-- End_Lat: double (nullable = true)\n",
      " |-- End_Lng: double (nullable = true)\n",
      " |-- Distance(mi): double (nullable = true)\n",
      " |-- Description: string (nullable = true)\n",
      " |-- Street: string (nullable = true)\n",
      " |-- City: string (nullable = true)\n",
      " |-- County: string (nullable = true)\n",
      " |-- State: string (nullable = true)\n",
      " |-- Zipcode: string (nullable = true)\n",
      " |-- Country: string (nullable = true)\n",
      " |-- Timezone: string (nullable = true)\n",
      " |-- Airport_Code: string (nullable = true)\n",
      " |-- Weather_Timestamp: string (nullable = true)\n",
      " |-- Temperature(F): double (nullable = true)\n",
      " |-- Wind_Chill(F): double (nullable = true)\n",
      " |-- Humidity(%): integer (nullable = true)\n",
      " |-- Pressure(in): double (nullable = true)\n",
      " |-- Visibility(mi): double (nullable = true)\n",
      " |-- Wind_Direction: string (nullable = true)\n",
      " |-- Wind_Speed(mph): double (nullable = true)\n",
      " |-- Precipitation(in): double (nullable = true)\n",
      " |-- Weather_Condition: string (nullable = true)\n",
      " |-- Amenity: boolean (nullable = true)\n",
      " |-- Bump: boolean (nullable = true)\n",
      " |-- Crossing: boolean (nullable = true)\n",
      " |-- Give_Way: boolean (nullable = true)\n",
      " |-- Junction: boolean (nullable = true)\n",
      " |-- No_Exit: boolean (nullable = true)\n",
      " |-- Railway: boolean (nullable = true)\n",
      " |-- Roundabout: boolean (nullable = true)\n",
      " |-- Station: boolean (nullable = true)\n",
      " |-- Stop: boolean (nullable = true)\n",
      " |-- Traffic_Calming: boolean (nullable = true)\n",
      " |-- Traffic_Signal: boolean (nullable = true)\n",
      " |-- Turning_Loop: boolean (nullable = true)\n",
      " |-- Sunrise_Sunset: string (nullable = true)\n",
      " |-- Civil_Twilight: string (nullable = true)\n",
      " |-- Nautical_Twilight: string (nullable = true)\n",
      " |-- Astronomical_Twilight: string (nullable = true)\n",
      "\n",
      "+---------+-------+--------+---------------+---------------+-----------+------------+-----------+------------+------------+--------------------+----------------+-----------+----------------+-----+----------+-------+----------+------------+-----------------+--------------+-------------+-----------+------------+--------------+--------------+---------------+-----------------+-----------------+-------+-----+--------+--------+--------+-------+-------+----------+-------+-----+---------------+--------------+------------+--------------+--------------+-----------------+---------------------+\n",
      "|       ID| Source|Severity|     Start_Time|       End_Time|  Start_Lat|   Start_Lng|    End_Lat|     End_Lng|Distance(mi)|         Description|          Street|       City|          County|State|   Zipcode|Country|  Timezone|Airport_Code|Weather_Timestamp|Temperature(F)|Wind_Chill(F)|Humidity(%)|Pressure(in)|Visibility(mi)|Wind_Direction|Wind_Speed(mph)|Precipitation(in)|Weather_Condition|Amenity| Bump|Crossing|Give_Way|Junction|No_Exit|Railway|Roundabout|Station| Stop|Traffic_Calming|Traffic_Signal|Turning_Loop|Sunrise_Sunset|Civil_Twilight|Nautical_Twilight|Astronomical_Twilight|\n",
      "+---------+-------+--------+---------------+---------------+-----------+------------+-----------+------------+------------+--------------------+----------------+-----------+----------------+-----+----------+-------+----------+------------+-----------------+--------------+-------------+-----------+------------+--------------+--------------+---------------+-----------------+-----------------+-------+-----+--------+--------+--------+-------+-------+----------+-------+-----+---------------+--------------+------------+--------------+--------------+-----------------+---------------------+\n",
      "|A-2047758|Source2|       2|6/12/2019 10:10|6/12/2019 10:55|  30.641211|  -91.153481|       NULL|        NULL|         0.0|Accident on LA-19...|      Highway 19|    Zachary|East Baton Rouge|   LA|70791-4610|     US|US/Central|        KBTR|   6/12/2019 9:53|          77.0|         77.0|         62|       29.92|          10.0|            NW|            5.0|              0.0|             Fair|  false|false|   false|   false|   false|  false|  false|     false|  false|false|          false|          true|       false|           Day|           Day|              Day|                  Day|\n",
      "|A-4694324|Source1|       2|        37:14.0|        56:53.0|  38.990562|   -77.39907|  38.990037|  -77.398282|       0.056|Incident on FORES...| Forest Ridge Dr|   Sterling|         Loudoun|   VA|20164-2813|     US|US/Eastern|        KIAD|  12/3/2022 23:52|          45.0|         43.0|         48|       29.91|          10.0|             W|            5.0|              0.0|             Fair|  false|false|   false|   false|   false|  false|  false|     false|  false|false|          false|         false|       false|         Night|         Night|            Night|                Night|\n",
      "|A-5006183|Source1|       2|        13:00.0|        22:45.0|34.66118932|-120.4928219|34.66118932|-120.4924419|       0.022|Accident on W Cen...|   Floradale Ave|     Lompoc|   Santa Barbara|   CA|     93436|     US|US/Pacific|        KLPC|  8/20/2022 12:56|          68.0|         68.0|         73|       29.79|          10.0|             W|           13.0|              0.0|             Fair|  false|false|   false|   false|   false|  false|  false|     false|  false|false|          false|          true|       false|           Day|           Day|              Day|                  Day|\n",
      "|A-4237356|Source1|       2|2/21/2022 17:43|2/21/2022 19:43|  43.680592|  -92.993317|  43.680574|  -92.972223|       1.054|Incident on I-90 ...|      14th St NW|     Austin|           Mower|   MN|     55912|     US|US/Central|        KAUM|  2/21/2022 17:35|          27.0|         15.0|         86|       28.49|          10.0|           ENE|           15.0|              0.0|       Wintry Mix|  false|false|   false|   false|   false|  false|  false|     false|  false|false|          false|         false|       false|           Day|           Day|              Day|                  Day|\n",
      "|A-6690583|Source1|       2| 12/4/2020 1:46| 12/4/2020 4:13|  35.395484| -118.985176|  35.395476| -118.985995|       0.046|RP ADV THEY LOCAT...|      River Blvd|Bakersfield|            Kern|   CA|93305-2649|     US|US/Pacific|        KBFL|   12/4/2020 1:54|          42.0|         42.0|         34|       29.77|          10.0|          CALM|            0.0|              0.0|             Fair|  false|false|   false|   false|   false|  false|  false|     false|  false|false|          false|         false|       false|         Night|         Night|            Night|                Night|\n",
      "+---------+-------+--------+---------------+---------------+-----------+------------+-----------+------------+------------+--------------------+----------------+-----------+----------------+-----+----------+-------+----------+------------+-----------------+--------------+-------------+-----------+------------+--------------+--------------+---------------+-----------------+-----------------+-------+-----+--------+--------+--------+-------+-------+----------+-------+-----+---------------+--------------+------------+--------------+--------------+-----------------+---------------------+\n",
      "only showing top 5 rows\n",
      "\n"
     ]
    }
   ],
   "source": [
    "# Kiểm tra schema của dữ liệu\n",
    "df.printSchema()\n",
    "df.show(5)"
   ]
  },
  {
   "cell_type": "code",
   "execution_count": 4,
   "id": "ada7fbd5",
   "metadata": {},
   "outputs": [
    {
     "name": "stdout",
     "output_type": "stream",
     "text": [
      "+---+------+--------+----------+--------+---------+---------+-------+-------+------------+-----------+------+----+------+-----+-------+-------+--------+------------+-----------------+--------------+-------------+-----------+------------+--------------+--------------+---------------+-----------------+-----------------+-------+----+--------+--------+--------+-------+-------+----------+-------+----+---------------+--------------+------------+--------------+--------------+-----------------+---------------------+\n",
      "| ID|Source|Severity|Start_Time|End_Time|Start_Lat|Start_Lng|End_Lat|End_Lng|Distance(mi)|Description|Street|City|County|State|Zipcode|Country|Timezone|Airport_Code|Weather_Timestamp|Temperature(F)|Wind_Chill(F)|Humidity(%)|Pressure(in)|Visibility(mi)|Wind_Direction|Wind_Speed(mph)|Precipitation(in)|Weather_Condition|Amenity|Bump|Crossing|Give_Way|Junction|No_Exit|Railway|Roundabout|Station|Stop|Traffic_Calming|Traffic_Signal|Turning_Loop|Sunrise_Sunset|Civil_Twilight|Nautical_Twilight|Astronomical_Twilight|\n",
      "+---+------+--------+----------+--------+---------+---------+-------+-------+------------+-----------+------+----+------+-----+-------+-------+--------+------------+-----------------+--------------+-------------+-----------+------------+--------------+--------------+---------------+-----------------+-----------------+-------+----+--------+--------+--------+-------+-------+----------+-------+----+---------------+--------------+------------+--------------+--------------+-----------------+---------------------+\n",
      "|  0|     0|       0|         0|       0|        0|        0| 220377| 220377|           0|          1|   691|  19|     0|    0|    116|      0|     507|        1446|             7674|         10466|       129017|      11130|        8928|         11291|         11197|          36987|           142616|            11101|      0|   0|       0|       0|       0|      0|      0|         0|      0|   0|              0|             0|           0|          1483|          1483|             1483|                 1483|\n",
      "+---+------+--------+----------+--------+---------+---------+-------+-------+------------+-----------+------+----+------+-----+-------+-------+--------+------------+-----------------+--------------+-------------+-----------+------------+--------------+--------------+---------------+-----------------+-----------------+-------+----+--------+--------+--------+-------+-------+----------+-------+----+---------------+--------------+------------+--------------+--------------+-----------------+---------------------+\n",
      "\n"
     ]
    }
   ],
   "source": [
    "null_counts = df.select([sum(when(col(c).isNull(), 1).otherwise(0)).alias(c) for c in df.columns])\n",
    "\n",
    "# Hiển thị kết quả\n",
    "null_counts.show()"
   ]
  },
  {
   "cell_type": "code",
   "execution_count": 5,
   "id": "fd925725",
   "metadata": {},
   "outputs": [
    {
     "name": "stdout",
     "output_type": "stream",
     "text": [
      "+---------+-------+--------+----------------+----------------+------------------+------------+------------------+--------------------+----------------+------------+----------------+-----+----------+-------+-----------+------------+-----------------+--------------+-------------+-----------+------------+--------------+--------------+---------------+-----------------+-----------------+-------+-----+--------+--------+--------+-------+-------+----------+-------+-----+---------------+--------------+------------+--------------+--------------+-----------------+---------------------+\n",
      "|       ID| Source|Severity|      Start_Time|        End_Time|         Start_Lat|   Start_Lng|      Distance(mi)|         Description|          Street|        City|          County|State|   Zipcode|Country|   Timezone|Airport_Code|Weather_Timestamp|Temperature(F)|Wind_Chill(F)|Humidity(%)|Pressure(in)|Visibility(mi)|Wind_Direction|Wind_Speed(mph)|Precipitation(in)|Weather_Condition|Amenity| Bump|Crossing|Give_Way|Junction|No_Exit|Railway|Roundabout|Station| Stop|Traffic_Calming|Traffic_Signal|Turning_Loop|Sunrise_Sunset|Civil_Twilight|Nautical_Twilight|Astronomical_Twilight|\n",
      "+---------+-------+--------+----------------+----------------+------------------+------------+------------------+--------------------+----------------+------------+----------------+-----+----------+-------+-----------+------------+-----------------+--------------+-------------+-----------+------------+--------------+--------------+---------------+-----------------+-----------------+-------+-----+--------+--------+--------+-------+-------+----------+-------+-----+---------------+--------------+------------+--------------+--------------+-----------------+---------------------+\n",
      "|A-2047758|Source2|       2| 6/12/2019 10:10| 6/12/2019 10:55|         30.641211|  -91.153481|               0.0|Accident on LA-19...|      Highway 19|     Zachary|East Baton Rouge|   LA|70791-4610|     US| US/Central|        KBTR|   6/12/2019 9:53|          77.0|         77.0|         62|       29.92|          10.0|            NW|            5.0|              0.0|             Fair|  false|false|   false|   false|   false|  false|  false|     false|  false|false|          false|          true|       false|           Day|           Day|              Day|                  Day|\n",
      "|A-4694324|Source1|       2|         37:14.0|         56:53.0|         38.990562|   -77.39907|             0.056|Incident on FORES...| Forest Ridge Dr|    Sterling|         Loudoun|   VA|20164-2813|     US| US/Eastern|        KIAD|  12/3/2022 23:52|          45.0|         43.0|         48|       29.91|          10.0|             W|            5.0|              0.0|             Fair|  false|false|   false|   false|   false|  false|  false|     false|  false|false|          false|         false|       false|         Night|         Night|            Night|                Night|\n",
      "|A-5006183|Source1|       2|         13:00.0|         22:45.0|       34.66118932|-120.4928219|             0.022|Accident on W Cen...|   Floradale Ave|      Lompoc|   Santa Barbara|   CA|     93436|     US| US/Pacific|        KLPC|  8/20/2022 12:56|          68.0|         68.0|         73|       29.79|          10.0|             W|           13.0|              0.0|             Fair|  false|false|   false|   false|   false|  false|  false|     false|  false|false|          false|          true|       false|           Day|           Day|              Day|                  Day|\n",
      "|A-4237356|Source1|       2| 2/21/2022 17:43| 2/21/2022 19:43|         43.680592|  -92.993317|             1.054|Incident on I-90 ...|      14th St NW|      Austin|           Mower|   MN|     55912|     US| US/Central|        KAUM|  2/21/2022 17:35|          27.0|         15.0|         86|       28.49|          10.0|           ENE|           15.0|              0.0|       Wintry Mix|  false|false|   false|   false|   false|  false|  false|     false|  false|false|          false|         false|       false|           Day|           Day|              Day|                  Day|\n",
      "|A-6690583|Source1|       2|  12/4/2020 1:46|  12/4/2020 4:13|         35.395484| -118.985176|             0.046|RP ADV THEY LOCAT...|      River Blvd| Bakersfield|            Kern|   CA|93305-2649|     US| US/Pacific|        KBFL|   12/4/2020 1:54|          42.0|         42.0|         34|       29.77|          10.0|          CALM|            0.0|              0.0|             Fair|  false|false|   false|   false|   false|  false|  false|     false|  false|false|          false|         false|       false|         Night|         Night|            Night|                Night|\n",
      "|A-1101469|Source2|       2|  3/29/2021 7:03|  3/29/2021 8:51|         42.532082|  -70.944267|               0.0|Accident on Fores...|       Lowell St|     Peabody|           Essex|   MA|01960-4275|     US| US/Eastern|        KBVY|   3/29/2021 6:53|          42.0|         35.0|         58|       29.37|          10.0|             W|           13.0|              0.0|             Fair|  false|false|   false|   false|   false|  false|  false|     false|  false|false|          false|          true|       false|           Day|           Day|              Day|                  Day|\n",
      "|A-7222249|Source1|       2| 1/14/2020 16:49| 1/14/2020 20:49|          42.42128|  -123.11945|               0.0|At OR-99/Exit 45A...|           I-5 N|   Gold Hill|         Jackson|   OR|     97525|     US| US/Pacific|        KMFR|  1/14/2020 16:53|          35.0|         35.0|         89|       28.71|          10.0|          CALM|            0.0|              0.0|       Light Rain|  false|false|   false|   false|   false|  false|  false|     false|  false|false|          false|         false|       false|           Day|           Day|              Day|                  Day|\n",
      "|A-6198239|Source1|       2|         48:00.0|         09:09.0|          30.19101|  -85.682508|             0.047|Incident on CLARE...|    Claremont Dr| Panama City|             Bay|   FL|32405-3534|     US| US/Central|        KPAM|  8/13/2021 16:56|          90.0|         90.0|         55|       30.03|          10.0|            SW|           12.0|              0.0|             Fair|  false|false|   false|   false|   false|  false|  false|     false|  false|false|          false|         false|       false|           Day|           Day|              Day|                  Day|\n",
      "|A-4222549|Source1|       2|10/12/2022 13:59|10/12/2022 15:33|         32.868947|  -96.804018|             0.038|Incident on PREST...|      Preston Rd|      Dallas|          Dallas|   TX|     75225|     US| US/Central|        KDAL| 10/12/2022 13:53|          91.0|         91.0|         39|       29.34|          10.0|           VAR|            7.0|              0.0|             Fair|  false|false|   false|   false|   false|  false|  false|     false|   true|false|          false|         false|       false|           Day|           Day|              Day|                  Day|\n",
      "|A-5924038|Source1|       2| 10/21/2021 7:39| 10/21/2021 9:24|39.717217683602726|-86.12469077|             1.301|Incident on I-65 ...|            I-65|Indianapolis|          Marion|   IN|     46237|     US| US/Eastern|        KIND|  10/21/2021 7:47|          63.0|         63.0|         78|       29.06|          10.0|            SW|           10.0|              0.0|           Cloudy|  false|false|   false|   false|   false|  false|  false|     false|  false|false|          false|         false|       false|         Night|           Day|              Day|                  Day|\n",
      "| A-925338|Source2|       2|  8/25/2021 7:10|  8/25/2021 7:49|          39.93346|  -86.157433|2.4800000190734863|Exit ramp from I-...|   N Meridian St|Indianapolis|        Hamilton|   IN|     46290|     US| US/Eastern|        KTYQ|   8/25/2021 7:15|          70.0|         70.0|         97|       29.11|          10.0|             S|            3.0|              0.0|           Cloudy|  false|false|   false|   false|   false|  false|  false|     false|  false|false|          false|         false|       false|           Day|           Day|              Day|                  Day|\n",
      "|A-4908440|Source1|       2|   2/1/2022 4:13|   2/1/2022 7:05|47.258259057773294|-115.0529158|             2.091|Travelers can exp...|          I-90 W| Saint Regis|         Mineral|   MT|     59866|     US|US/Mountain|        K3TH|    2/1/2022 3:53|          13.0|         13.0|         84|       24.08|          10.0|           VAR|            3.0|              0.0|           Cloudy|  false|false|   false|   false|   false|  false|  false|     false|  false|false|          false|         false|       false|         Night|         Night|            Night|                Night|\n",
      "|A-1388988|Source2|       2| 7/16/2020 11:03| 7/16/2020 13:17|          34.72015|  -86.616592|               0.0|Lane blocked due ...|    Governors Dr|  Huntsville|         Madison|   AL|35805-3542|     US| US/Central|        KHUA|  7/16/2020 10:58|          85.0|         85.0|         65|       29.39|          10.0|             S|            7.0|              0.0|             Fair|  false|false|   false|   false|   false|  false|  false|     false|  false|false|          false|          true|       false|           Day|           Day|              Day|                  Day|\n",
      "|A-4535214|Source1|       2| 2/18/2022 16:53| 2/18/2022 18:59|         32.771645| -117.161407|             2.845|Slow traffic on C...|       Friars Rd|   San Diego|       San Diego|   CA|     92108|     US| US/Pacific|        KMYF|  2/18/2022 16:53|          63.0|         63.0|         40|       29.69|          10.0|            NW|           14.0|              0.0|             Fair|  false|false|   false|   false|   false|  false|  false|     false|  false|false|          false|         false|       false|           Day|           Day|              Day|                  Day|\n",
      "|A-2127689|Source2|       2|  5/28/2019 7:37|  5/28/2019 8:45|         33.436073| -111.926163|               0.0|Right hand should...| N Scottsdale Rd|       Tempe|        Maricopa|   AZ|     85281|     US|US/Mountain|        KPHX|   5/28/2019 7:51|          64.0|         64.0|         37|       28.66|          10.0|             E|            7.0|              0.0|             Fair|  false|false|    true|   false|   false|  false|  false|     false|  false|false|          false|          true|       false|           Day|           Day|              Day|                  Day|\n",
      "|A-6609749|Source1|       2|11/30/2020 12:57|  12/1/2020 1:48|          25.89866|  -80.382801|             0.294|Stationary traffi...| W Okeechobee Rd|       Miami|      Miami-Dade|   FL|     33178|     US| US/Eastern|        KMIA| 11/30/2020 12:53|          83.0|         83.0|         58|       29.89|          10.0|           WSW|           14.0|              0.0|    Mostly Cloudy|  false|false|   false|   false|   false|  false|  false|     false|  false|false|          false|         false|       false|           Day|           Day|              Day|                  Day|\n",
      "|A-6214306|Source1|       2| 7/21/2021 18:13| 7/21/2021 18:32|         38.132332|  -77.511383|             0.765|Slow traffic on I...|          I-95 S|    Woodford|    Spotsylvania|   VA|     22580|     US| US/Eastern|        KEZF|  7/21/2021 18:15|          84.0|         84.0|         54|       29.79|          10.0|           NNE|            3.0|              0.0|    Partly Cloudy|  false|false|   false|   false|   false|  false|  false|     false|  false|false|          false|         false|       false|           Day|           Day|              Day|                  Day|\n",
      "|A-2881976|Source2|       2|  4/12/2018 7:30|  4/12/2018 8:30|          29.75239|  -95.364708|               0.0|Accident on Clay ...|     Caroline St|     Houston|          Harris|   TX|77002-6904|     US| US/Central|        KMCJ|   4/12/2018 7:55|          64.4|         NULL|         94|       29.98|           9.0|      Variable|            4.6|             NULL|            Clear|  false|false|    true|   false|   false|  false|  false|     false|  false|false|          false|          true|       false|           Day|           Day|              Day|                  Day|\n",
      "|A-2635201|Source2|       2|  8/9/2018 15:11|  8/9/2018 15:40|         41.926895|  -73.912605|               0.0|Right hand should...|         Mill St|   Rhinebeck|        Dutchess|   NY|12572-1427|     US| US/Eastern|        KPOU|   8/9/2018 14:53|          84.0|         NULL|         55|       29.75|          10.0|          West|            5.8|             NULL| Scattered Clouds|  false|false|    true|   false|   false|  false|  false|     false|   true|false|          false|          true|       false|           Day|           Day|              Day|                  Day|\n",
      "|A-5659848|Source1|       2| 11/9/2021 23:47| 11/10/2021 1:03|         25.794969|  -80.258877|              0.01|Incident on NW 21...|      NW 21st St|       Miami|      Miami-Dade|   FL|33142-6704|     US| US/Eastern|        KMIA|  11/9/2021 23:53|          70.0|         70.0|         78|       30.09|          10.0|             N|            3.0|              0.0|    Mostly Cloudy|   true|false|    true|   false|   false|  false|  false|     false|  false|false|          false|          true|       false|         Night|         Night|            Night|                Night|\n",
      "+---------+-------+--------+----------------+----------------+------------------+------------+------------------+--------------------+----------------+------------+----------------+-----+----------+-------+-----------+------------+-----------------+--------------+-------------+-----------+------------+--------------+--------------+---------------+-----------------+-----------------+-------+-----+--------+--------+--------+-------+-------+----------+-------+-----+---------------+--------------+------------+--------------+--------------+-----------------+---------------------+\n",
      "only showing top 20 rows\n",
      "\n"
     ]
    }
   ],
   "source": [
    "# Bỏ 2 cột End_lat và End_lng\n",
    "df = df.drop(\"End_lat\", \"End_lng\")\n",
    "\n",
    "# Hiển thị DataFrame sau khi bỏ cột\n",
    "df.show()"
   ]
  },
  {
   "cell_type": "code",
   "execution_count": 6,
   "id": "ace07be0",
   "metadata": {},
   "outputs": [
    {
     "name": "stdout",
     "output_type": "stream",
     "text": [
      "+---------+-------+--------+----------------+----------------+------------------+------------+------------------+--------------------+----------------+------------+----------------+-----+----------+-------+-----------+------------+-----------------+--------------+-------------+-----------+------------+--------------+--------------+---------------+-----------------+-----------------+-------+-----+--------+--------+--------+-------+-------+----------+-------+-----+---------------+--------------+------------+--------------+--------------+-----------------+---------------------+\n",
      "|       ID| Source|Severity|      Start_Time|        End_Time|         Start_Lat|   Start_Lng|      Distance(mi)|         Description|          Street|        City|          County|State|   Zipcode|Country|   Timezone|Airport_Code|Weather_Timestamp|Temperature(F)|Wind_Chill(F)|Humidity(%)|Pressure(in)|Visibility(mi)|Wind_Direction|Wind_Speed(mph)|Precipitation(in)|Weather_Condition|Amenity| Bump|Crossing|Give_Way|Junction|No_Exit|Railway|Roundabout|Station| Stop|Traffic_Calming|Traffic_Signal|Turning_Loop|Sunrise_Sunset|Civil_Twilight|Nautical_Twilight|Astronomical_Twilight|\n",
      "+---------+-------+--------+----------------+----------------+------------------+------------+------------------+--------------------+----------------+------------+----------------+-----+----------+-------+-----------+------------+-----------------+--------------+-------------+-----------+------------+--------------+--------------+---------------+-----------------+-----------------+-------+-----+--------+--------+--------+-------+-------+----------+-------+-----+---------------+--------------+------------+--------------+--------------+-----------------+---------------------+\n",
      "|A-2047758|Source2|       2| 6/12/2019 10:10| 6/12/2019 10:55|         30.641211|  -91.153481|               0.0|Accident on LA-19...|      Highway 19|     Zachary|East Baton Rouge|   LA|70791-4610|     US| US/Central|        KBTR|   6/12/2019 9:53|          77.0|         77.0|         62|       29.92|          10.0|            NW|            5.0|              0.0|             Fair|  false|false|   false|   false|   false|  false|  false|     false|  false|false|          false|          true|       false|           Day|           Day|              Day|                  Day|\n",
      "|A-4694324|Source1|       2|         37:14.0|         56:53.0|         38.990562|   -77.39907|             0.056|Incident on FORES...| Forest Ridge Dr|    Sterling|         Loudoun|   VA|20164-2813|     US| US/Eastern|        KIAD|  12/3/2022 23:52|          45.0|         43.0|         48|       29.91|          10.0|             W|            5.0|              0.0|             Fair|  false|false|   false|   false|   false|  false|  false|     false|  false|false|          false|         false|       false|         Night|         Night|            Night|                Night|\n",
      "|A-5006183|Source1|       2|         13:00.0|         22:45.0|       34.66118932|-120.4928219|             0.022|Accident on W Cen...|   Floradale Ave|      Lompoc|   Santa Barbara|   CA|     93436|     US| US/Pacific|        KLPC|  8/20/2022 12:56|          68.0|         68.0|         73|       29.79|          10.0|             W|           13.0|              0.0|             Fair|  false|false|   false|   false|   false|  false|  false|     false|  false|false|          false|          true|       false|           Day|           Day|              Day|                  Day|\n",
      "|A-4237356|Source1|       2| 2/21/2022 17:43| 2/21/2022 19:43|         43.680592|  -92.993317|             1.054|Incident on I-90 ...|      14th St NW|      Austin|           Mower|   MN|     55912|     US| US/Central|        KAUM|  2/21/2022 17:35|          27.0|         15.0|         86|       28.49|          10.0|           ENE|           15.0|              0.0|       Wintry Mix|  false|false|   false|   false|   false|  false|  false|     false|  false|false|          false|         false|       false|           Day|           Day|              Day|                  Day|\n",
      "|A-6690583|Source1|       2|  12/4/2020 1:46|  12/4/2020 4:13|         35.395484| -118.985176|             0.046|RP ADV THEY LOCAT...|      River Blvd| Bakersfield|            Kern|   CA|93305-2649|     US| US/Pacific|        KBFL|   12/4/2020 1:54|          42.0|         42.0|         34|       29.77|          10.0|          CALM|            0.0|              0.0|             Fair|  false|false|   false|   false|   false|  false|  false|     false|  false|false|          false|         false|       false|         Night|         Night|            Night|                Night|\n",
      "|A-1101469|Source2|       2|  3/29/2021 7:03|  3/29/2021 8:51|         42.532082|  -70.944267|               0.0|Accident on Fores...|       Lowell St|     Peabody|           Essex|   MA|01960-4275|     US| US/Eastern|        KBVY|   3/29/2021 6:53|          42.0|         35.0|         58|       29.37|          10.0|             W|           13.0|              0.0|             Fair|  false|false|   false|   false|   false|  false|  false|     false|  false|false|          false|          true|       false|           Day|           Day|              Day|                  Day|\n",
      "|A-7222249|Source1|       2| 1/14/2020 16:49| 1/14/2020 20:49|          42.42128|  -123.11945|               0.0|At OR-99/Exit 45A...|           I-5 N|   Gold Hill|         Jackson|   OR|     97525|     US| US/Pacific|        KMFR|  1/14/2020 16:53|          35.0|         35.0|         89|       28.71|          10.0|          CALM|            0.0|              0.0|       Light Rain|  false|false|   false|   false|   false|  false|  false|     false|  false|false|          false|         false|       false|           Day|           Day|              Day|                  Day|\n",
      "|A-6198239|Source1|       2|         48:00.0|         09:09.0|          30.19101|  -85.682508|             0.047|Incident on CLARE...|    Claremont Dr| Panama City|             Bay|   FL|32405-3534|     US| US/Central|        KPAM|  8/13/2021 16:56|          90.0|         90.0|         55|       30.03|          10.0|            SW|           12.0|              0.0|             Fair|  false|false|   false|   false|   false|  false|  false|     false|  false|false|          false|         false|       false|           Day|           Day|              Day|                  Day|\n",
      "|A-4222549|Source1|       2|10/12/2022 13:59|10/12/2022 15:33|         32.868947|  -96.804018|             0.038|Incident on PREST...|      Preston Rd|      Dallas|          Dallas|   TX|     75225|     US| US/Central|        KDAL| 10/12/2022 13:53|          91.0|         91.0|         39|       29.34|          10.0|           VAR|            7.0|              0.0|             Fair|  false|false|   false|   false|   false|  false|  false|     false|   true|false|          false|         false|       false|           Day|           Day|              Day|                  Day|\n",
      "|A-5924038|Source1|       2| 10/21/2021 7:39| 10/21/2021 9:24|39.717217683602726|-86.12469077|             1.301|Incident on I-65 ...|            I-65|Indianapolis|          Marion|   IN|     46237|     US| US/Eastern|        KIND|  10/21/2021 7:47|          63.0|         63.0|         78|       29.06|          10.0|            SW|           10.0|              0.0|           Cloudy|  false|false|   false|   false|   false|  false|  false|     false|  false|false|          false|         false|       false|         Night|           Day|              Day|                  Day|\n",
      "| A-925338|Source2|       2|  8/25/2021 7:10|  8/25/2021 7:49|          39.93346|  -86.157433|2.4800000190734863|Exit ramp from I-...|   N Meridian St|Indianapolis|        Hamilton|   IN|     46290|     US| US/Eastern|        KTYQ|   8/25/2021 7:15|          70.0|         70.0|         97|       29.11|          10.0|             S|            3.0|              0.0|           Cloudy|  false|false|   false|   false|   false|  false|  false|     false|  false|false|          false|         false|       false|           Day|           Day|              Day|                  Day|\n",
      "|A-4908440|Source1|       2|   2/1/2022 4:13|   2/1/2022 7:05|47.258259057773294|-115.0529158|             2.091|Travelers can exp...|          I-90 W| Saint Regis|         Mineral|   MT|     59866|     US|US/Mountain|        K3TH|    2/1/2022 3:53|          13.0|         13.0|         84|       24.08|          10.0|           VAR|            3.0|              0.0|           Cloudy|  false|false|   false|   false|   false|  false|  false|     false|  false|false|          false|         false|       false|         Night|         Night|            Night|                Night|\n",
      "|A-1388988|Source2|       2| 7/16/2020 11:03| 7/16/2020 13:17|          34.72015|  -86.616592|               0.0|Lane blocked due ...|    Governors Dr|  Huntsville|         Madison|   AL|35805-3542|     US| US/Central|        KHUA|  7/16/2020 10:58|          85.0|         85.0|         65|       29.39|          10.0|             S|            7.0|              0.0|             Fair|  false|false|   false|   false|   false|  false|  false|     false|  false|false|          false|          true|       false|           Day|           Day|              Day|                  Day|\n",
      "|A-4535214|Source1|       2| 2/18/2022 16:53| 2/18/2022 18:59|         32.771645| -117.161407|             2.845|Slow traffic on C...|       Friars Rd|   San Diego|       San Diego|   CA|     92108|     US| US/Pacific|        KMYF|  2/18/2022 16:53|          63.0|         63.0|         40|       29.69|          10.0|            NW|           14.0|              0.0|             Fair|  false|false|   false|   false|   false|  false|  false|     false|  false|false|          false|         false|       false|           Day|           Day|              Day|                  Day|\n",
      "|A-2127689|Source2|       2|  5/28/2019 7:37|  5/28/2019 8:45|         33.436073| -111.926163|               0.0|Right hand should...| N Scottsdale Rd|       Tempe|        Maricopa|   AZ|     85281|     US|US/Mountain|        KPHX|   5/28/2019 7:51|          64.0|         64.0|         37|       28.66|          10.0|             E|            7.0|              0.0|             Fair|  false|false|    true|   false|   false|  false|  false|     false|  false|false|          false|          true|       false|           Day|           Day|              Day|                  Day|\n",
      "|A-6609749|Source1|       2|11/30/2020 12:57|  12/1/2020 1:48|          25.89866|  -80.382801|             0.294|Stationary traffi...| W Okeechobee Rd|       Miami|      Miami-Dade|   FL|     33178|     US| US/Eastern|        KMIA| 11/30/2020 12:53|          83.0|         83.0|         58|       29.89|          10.0|           WSW|           14.0|              0.0|    Mostly Cloudy|  false|false|   false|   false|   false|  false|  false|     false|  false|false|          false|         false|       false|           Day|           Day|              Day|                  Day|\n",
      "|A-6214306|Source1|       2| 7/21/2021 18:13| 7/21/2021 18:32|         38.132332|  -77.511383|             0.765|Slow traffic on I...|          I-95 S|    Woodford|    Spotsylvania|   VA|     22580|     US| US/Eastern|        KEZF|  7/21/2021 18:15|          84.0|         84.0|         54|       29.79|          10.0|           NNE|            3.0|              0.0|    Partly Cloudy|  false|false|   false|   false|   false|  false|  false|     false|  false|false|          false|         false|       false|           Day|           Day|              Day|                  Day|\n",
      "|A-2881976|Source2|       2|  4/12/2018 7:30|  4/12/2018 8:30|          29.75239|  -95.364708|               0.0|Accident on Clay ...|     Caroline St|     Houston|          Harris|   TX|77002-6904|     US| US/Central|        KMCJ|   4/12/2018 7:55|          64.4|         NULL|         94|       29.98|           9.0|      Variable|            4.6|             NULL|            Clear|  false|false|    true|   false|   false|  false|  false|     false|  false|false|          false|          true|       false|           Day|           Day|              Day|                  Day|\n",
      "|A-2635201|Source2|       2|  8/9/2018 15:11|  8/9/2018 15:40|         41.926895|  -73.912605|               0.0|Right hand should...|         Mill St|   Rhinebeck|        Dutchess|   NY|12572-1427|     US| US/Eastern|        KPOU|   8/9/2018 14:53|          84.0|         NULL|         55|       29.75|          10.0|          West|            5.8|             NULL| Scattered Clouds|  false|false|    true|   false|   false|  false|  false|     false|   true|false|          false|          true|       false|           Day|           Day|              Day|                  Day|\n",
      "|A-5659848|Source1|       2| 11/9/2021 23:47| 11/10/2021 1:03|         25.794969|  -80.258877|              0.01|Incident on NW 21...|      NW 21st St|       Miami|      Miami-Dade|   FL|33142-6704|     US| US/Eastern|        KMIA|  11/9/2021 23:53|          70.0|         70.0|         78|       30.09|          10.0|             N|            3.0|              0.0|    Mostly Cloudy|   true|false|    true|   false|   false|  false|  false|     false|  false|false|          false|          true|       false|         Night|         Night|            Night|                Night|\n",
      "+---------+-------+--------+----------------+----------------+------------------+------------+------------------+--------------------+----------------+------------+----------------+-----+----------+-------+-----------+------------+-----------------+--------------+-------------+-----------+------------+--------------+--------------+---------------+-----------------+-----------------+-------+-----+--------+--------+--------+-------+-------+----------+-------+-----+---------------+--------------+------------+--------------+--------------+-----------------+---------------------+\n",
      "only showing top 20 rows\n",
      "\n"
     ]
    }
   ],
   "source": [
    "# Loại bỏ các hàng có Weather_Timestamp là NULL\n",
    "df = df.filter(df[\"Weather_Timestamp\"].isNotNull())\n",
    "# Loại bỏ các hàng có Weather_Timestamp là NULL\n",
    "df = df.na.drop(subset=[\"Weather_Timestamp\"])\n",
    "\n",
    "# Hiển thị DataFrame sau khi loại bỏ các hàng\n",
    "df.show()"
   ]
  },
  {
   "cell_type": "code",
   "execution_count": 7,
   "id": "60eeac48",
   "metadata": {},
   "outputs": [
    {
     "name": "stdout",
     "output_type": "stream",
     "text": [
      "+---+------+--------+----------+--------+---------+---------+------------+-----------+------+----+------+-----+-------+-------+--------+------------+-----------------+--------------+-------------+-----------+------------+--------------+--------------+---------------+-----------------+-----------------+-------+----+--------+--------+--------+-------+-------+----------+-------+----+---------------+--------------+------------+--------------+--------------+-----------------+---------------------+\n",
      "| ID|Source|Severity|Start_Time|End_Time|Start_Lat|Start_Lng|Distance(mi)|Description|Street|City|County|State|Zipcode|Country|Timezone|Airport_Code|Weather_Timestamp|Temperature(F)|Wind_Chill(F)|Humidity(%)|Pressure(in)|Visibility(mi)|Wind_Direction|Wind_Speed(mph)|Precipitation(in)|Weather_Condition|Amenity|Bump|Crossing|Give_Way|Junction|No_Exit|Railway|Roundabout|Station|Stop|Traffic_Calming|Traffic_Signal|Turning_Loop|Sunrise_Sunset|Civil_Twilight|Nautical_Twilight|Astronomical_Twilight|\n",
      "+---+------+--------+----------+--------+---------+---------+------------+-----------+------+----+------+-----+-------+-------+--------+------------+-----------------+--------------+-------------+-----------+------------+--------------+--------------+---------------+-----------------+-----------------+-------+----+--------+--------+--------+-------+-------+----------+-------+----+---------------+--------------+------------+--------------+--------------+-----------------+---------------------+\n",
      "|  0|     0|       0|         0|       0|        0|        0|           0|          1|   684|  19|     0|    0|      0|      0|       0|           0|                0|          2792|       121343|       3456|        1254|          3617|          3523|          29313|           134942|             3427|      0|   0|       0|       0|       0|      0|      0|         0|      0|   0|              0|             0|           0|          1322|          1322|             1322|                 1322|\n",
      "+---+------+--------+----------+--------+---------+---------+------------+-----------+------+----+------+-----+-------+-------+--------+------------+-----------------+--------------+-------------+-----------+------------+--------------+--------------+---------------+-----------------+-----------------+-------+----+--------+--------+--------+-------+-------+----------+-------+----+---------------+--------------+------------+--------------+--------------+-----------------+---------------------+\n",
      "\n"
     ]
    }
   ],
   "source": [
    "null_counts = df.select([sum(when(col(c).isNull(), 1).otherwise(0)).alias(c) for c in df.columns])\n",
    "\n",
    "# Hiển thị kết quả\n",
    "null_counts.show()"
   ]
  },
  {
   "cell_type": "code",
   "execution_count": 8,
   "id": "b240f991",
   "metadata": {},
   "outputs": [
    {
     "name": "stdout",
     "output_type": "stream",
     "text": [
      "root\n",
      " |-- ID: string (nullable = true)\n",
      " |-- Source: string (nullable = true)\n",
      " |-- Severity: integer (nullable = true)\n",
      " |-- Start_Time: string (nullable = true)\n",
      " |-- End_Time: string (nullable = true)\n",
      " |-- Start_Lat: double (nullable = true)\n",
      " |-- Start_Lng: double (nullable = true)\n",
      " |-- Distance(mi): double (nullable = true)\n",
      " |-- Description: string (nullable = true)\n",
      " |-- Street: string (nullable = true)\n",
      " |-- City: string (nullable = true)\n",
      " |-- County: string (nullable = true)\n",
      " |-- State: string (nullable = true)\n",
      " |-- Zipcode: string (nullable = true)\n",
      " |-- Country: string (nullable = true)\n",
      " |-- Timezone: string (nullable = true)\n",
      " |-- Airport_Code: string (nullable = true)\n",
      " |-- Weather_Timestamp: timestamp (nullable = true)\n",
      " |-- Temperature(F): double (nullable = true)\n",
      " |-- Wind_Chill(F): double (nullable = true)\n",
      " |-- Humidity(%): integer (nullable = true)\n",
      " |-- Pressure(in): double (nullable = true)\n",
      " |-- Visibility(mi): double (nullable = true)\n",
      " |-- Wind_Direction: string (nullable = true)\n",
      " |-- Wind_Speed(mph): double (nullable = true)\n",
      " |-- Precipitation(in): double (nullable = true)\n",
      " |-- Weather_Condition: string (nullable = true)\n",
      " |-- Amenity: boolean (nullable = true)\n",
      " |-- Bump: boolean (nullable = true)\n",
      " |-- Crossing: boolean (nullable = true)\n",
      " |-- Give_Way: boolean (nullable = true)\n",
      " |-- Junction: boolean (nullable = true)\n",
      " |-- No_Exit: boolean (nullable = true)\n",
      " |-- Railway: boolean (nullable = true)\n",
      " |-- Roundabout: boolean (nullable = true)\n",
      " |-- Station: boolean (nullable = true)\n",
      " |-- Stop: boolean (nullable = true)\n",
      " |-- Traffic_Calming: boolean (nullable = true)\n",
      " |-- Traffic_Signal: boolean (nullable = true)\n",
      " |-- Turning_Loop: boolean (nullable = true)\n",
      " |-- Sunrise_Sunset: string (nullable = true)\n",
      " |-- Civil_Twilight: string (nullable = true)\n",
      " |-- Nautical_Twilight: string (nullable = true)\n",
      " |-- Astronomical_Twilight: string (nullable = true)\n",
      "\n"
     ]
    }
   ],
   "source": [
    "df = df.withColumn(\"Weather_Timestamp\", to_timestamp(\"Weather_Timestamp\", \"M/d/yyyy H:mm\"))\n",
    "\n",
    "df.printSchema()"
   ]
  },
  {
   "cell_type": "code",
   "execution_count": 9,
   "id": "eb95fb68",
   "metadata": {},
   "outputs": [],
   "source": [
    "def fill_date_for_missing(df):\n",
    "    # Lấy ngày tháng năm từ Weather_Timestamp\n",
    "    df = df.withColumn(\"Start_Date\", date_format(\"Weather_Timestamp\", \"M/d/yyyy\"))\n",
    "    df = df.withColumn(\"End_Date\", date_format(\"Weather_Timestamp\", \"M/d/yyyy\"))\n",
    "\n",
    "    # Thêm ngày tháng năm vào Start_Time và End_Time nếu thiếu\n",
    "    df = df.withColumn(\n",
    "        \"Start_Time\",\n",
    "        when(\n",
    "            col(\"Start_Time\").rlike(\"^[0-9]{1,2}:[0-9]{2}(\\.[0-9]+)?$\"),\n",
    "            concat(col(\"Start_Date\"), lit(\" 00:\"), regexp_replace(col(\"Start_Time\"), r\":[0-9]{2}(\\.[0-9]+)?$\", \"\"))\n",
    "        ).otherwise(col(\"Start_Time\"))\n",
    "    )\n",
    "\n",
    "    df = df.withColumn(\n",
    "        \"End_Time\",\n",
    "        when(\n",
    "            col(\"End_Time\").rlike(\"^[0-9]{1,2}:[0-9]{2}(\\.[0-9]+)?$\"),\n",
    "            concat(col(\"End_Date\"), lit(\" 00:\"), regexp_replace(col(\"End_Time\"), r\":[0-9]{2}(\\.[0-9]+)?$\", \"\"))\n",
    "        ).otherwise(col(\"End_Time\"))\n",
    "    )\n",
    "\n",
    "    # Chuyển đổi cột Start_Time_Filled và End_Time_Filled thành kiểu timestamp\n",
    "    df = df.withColumn(\"Start_Time\", to_timestamp(\"Start_Time\", \"M/d/yyyy H:mm\"))\n",
    "    df = df.withColumn(\"End_Time\", to_timestamp(\"End_Time\", \"M/d/yyyy H:mm\"))\n",
    "    \n",
    "    return df\n",
    "\n",
    "# Áp dụng hàm vào DataFrame\n",
    "df = fill_date_for_missing(df)\n",
    "# Bỏ 2 cột Start_Date và End_Date\n",
    "df = df.drop(\"Start_Date\", \"End_Date\")\n"
   ]
  },
  {
   "cell_type": "code",
   "execution_count": 10,
   "id": "1c6d58d7",
   "metadata": {},
   "outputs": [
    {
     "name": "stdout",
     "output_type": "stream",
     "text": [
      "+---------+-------+--------+-------------------+-------------------+-----------+------------+------------+--------------------+----------------+-----------+----------------+-----+----------+-------+----------+------------+-------------------+--------------+-------------+-----------+------------+--------------+--------------+---------------+-----------------+-----------------+-------+-----+--------+--------+--------+-------+-------+----------+-------+-----+---------------+--------------+------------+--------------+--------------+-----------------+---------------------+\n",
      "|       ID| Source|Severity|         Start_Time|           End_Time|  Start_Lat|   Start_Lng|Distance(mi)|         Description|          Street|       City|          County|State|   Zipcode|Country|  Timezone|Airport_Code|  Weather_Timestamp|Temperature(F)|Wind_Chill(F)|Humidity(%)|Pressure(in)|Visibility(mi)|Wind_Direction|Wind_Speed(mph)|Precipitation(in)|Weather_Condition|Amenity| Bump|Crossing|Give_Way|Junction|No_Exit|Railway|Roundabout|Station| Stop|Traffic_Calming|Traffic_Signal|Turning_Loop|Sunrise_Sunset|Civil_Twilight|Nautical_Twilight|Astronomical_Twilight|\n",
      "+---------+-------+--------+-------------------+-------------------+-----------+------------+------------+--------------------+----------------+-----------+----------------+-----+----------+-------+----------+------------+-------------------+--------------+-------------+-----------+------------+--------------+--------------+---------------+-----------------+-----------------+-------+-----+--------+--------+--------+-------+-------+----------+-------+-----+---------------+--------------+------------+--------------+--------------+-----------------+---------------------+\n",
      "|A-2047758|Source2|       2|2019-06-12 10:10:00|2019-06-12 10:55:00|  30.641211|  -91.153481|         0.0|Accident on LA-19...|      Highway 19|    Zachary|East Baton Rouge|   LA|70791-4610|     US|US/Central|        KBTR|2019-06-12 09:53:00|          77.0|         77.0|         62|       29.92|          10.0|            NW|            5.0|              0.0|             Fair|  false|false|   false|   false|   false|  false|  false|     false|  false|false|          false|          true|       false|           Day|           Day|              Day|                  Day|\n",
      "|A-4694324|Source1|       2|2022-12-03 00:37:00|2022-12-03 00:56:00|  38.990562|   -77.39907|       0.056|Incident on FORES...| Forest Ridge Dr|   Sterling|         Loudoun|   VA|20164-2813|     US|US/Eastern|        KIAD|2022-12-03 23:52:00|          45.0|         43.0|         48|       29.91|          10.0|             W|            5.0|              0.0|             Fair|  false|false|   false|   false|   false|  false|  false|     false|  false|false|          false|         false|       false|         Night|         Night|            Night|                Night|\n",
      "|A-5006183|Source1|       2|2022-08-20 00:13:00|2022-08-20 00:22:00|34.66118932|-120.4928219|       0.022|Accident on W Cen...|   Floradale Ave|     Lompoc|   Santa Barbara|   CA|     93436|     US|US/Pacific|        KLPC|2022-08-20 12:56:00|          68.0|         68.0|         73|       29.79|          10.0|             W|           13.0|              0.0|             Fair|  false|false|   false|   false|   false|  false|  false|     false|  false|false|          false|          true|       false|           Day|           Day|              Day|                  Day|\n",
      "|A-4237356|Source1|       2|2022-02-21 17:43:00|2022-02-21 19:43:00|  43.680592|  -92.993317|       1.054|Incident on I-90 ...|      14th St NW|     Austin|           Mower|   MN|     55912|     US|US/Central|        KAUM|2022-02-21 17:35:00|          27.0|         15.0|         86|       28.49|          10.0|           ENE|           15.0|              0.0|       Wintry Mix|  false|false|   false|   false|   false|  false|  false|     false|  false|false|          false|         false|       false|           Day|           Day|              Day|                  Day|\n",
      "|A-6690583|Source1|       2|2020-12-04 01:46:00|2020-12-04 04:13:00|  35.395484| -118.985176|       0.046|RP ADV THEY LOCAT...|      River Blvd|Bakersfield|            Kern|   CA|93305-2649|     US|US/Pacific|        KBFL|2020-12-04 01:54:00|          42.0|         42.0|         34|       29.77|          10.0|          CALM|            0.0|              0.0|             Fair|  false|false|   false|   false|   false|  false|  false|     false|  false|false|          false|         false|       false|         Night|         Night|            Night|                Night|\n",
      "+---------+-------+--------+-------------------+-------------------+-----------+------------+------------+--------------------+----------------+-----------+----------------+-----+----------+-------+----------+------------+-------------------+--------------+-------------+-----------+------------+--------------+--------------+---------------+-----------------+-----------------+-------+-----+--------+--------+--------+-------+-------+----------+-------+-----+---------------+--------------+------------+--------------+--------------+-----------------+---------------------+\n",
      "only showing top 5 rows\n",
      "\n"
     ]
    }
   ],
   "source": [
    "# Xem một vài dòng dữ liệu\n",
    "df.show(5)"
   ]
  },
  {
   "cell_type": "code",
   "execution_count": 11,
   "id": "17401d4b",
   "metadata": {},
   "outputs": [
    {
     "name": "stdout",
     "output_type": "stream",
     "text": [
      "+---+------+--------+----------+--------+---------+---------+------------+-----------+------+----+------+-----+-------+-------+--------+------------+-----------------+--------------+-------------+-----------+------------+--------------+--------------+---------------+-----------------+-----------------+-------+----+--------+--------+--------+-------+-------+----------+-------+----+---------------+--------------+------------+--------------+--------------+-----------------+---------------------+\n",
      "| ID|Source|Severity|Start_Time|End_Time|Start_Lat|Start_Lng|Distance(mi)|Description|Street|City|County|State|Zipcode|Country|Timezone|Airport_Code|Weather_Timestamp|Temperature(F)|Wind_Chill(F)|Humidity(%)|Pressure(in)|Visibility(mi)|Wind_Direction|Wind_Speed(mph)|Precipitation(in)|Weather_Condition|Amenity|Bump|Crossing|Give_Way|Junction|No_Exit|Railway|Roundabout|Station|Stop|Traffic_Calming|Traffic_Signal|Turning_Loop|Sunrise_Sunset|Civil_Twilight|Nautical_Twilight|Astronomical_Twilight|\n",
      "+---+------+--------+----------+--------+---------+---------+------------+-----------+------+----+------+-----+-------+-------+--------+------------+-----------------+--------------+-------------+-----------+------------+--------------+--------------+---------------+-----------------+-----------------+-------+----+--------+--------+--------+-------+-------+----------+-------+----+---------------+--------------+------------+--------------+--------------+-----------------+---------------------+\n",
      "|  0|     0|       0|         0|       0|        0|        0|           0|          1|   684|  19|     0|    0|      0|      0|       0|           0|                0|          2792|       121343|       3456|        1254|          3617|          3523|          29313|           134942|             3427|      0|   0|       0|       0|       0|      0|      0|         0|      0|   0|              0|             0|           0|          1322|          1322|             1322|                 1322|\n",
      "+---+------+--------+----------+--------+---------+---------+------------+-----------+------+----+------+-----+-------+-------+--------+------------+-----------------+--------------+-------------+-----------+------------+--------------+--------------+---------------+-----------------+-----------------+-------+----+--------+--------+--------+-------+-------+----------+-------+----+---------------+--------------+------------+--------------+--------------+-----------------+---------------------+\n",
      "\n"
     ]
    }
   ],
   "source": [
    "null_counts = df.select([sum(when(col(c).isNull(), 1).otherwise(0)).alias(c) for c in df.columns])\n",
    "\n",
    "# Hiển thị kết quả\n",
    "null_counts.show()"
   ]
  },
  {
   "cell_type": "code",
   "execution_count": 12,
   "id": "1807ef36",
   "metadata": {},
   "outputs": [],
   "source": [
    "# Điền giá trị cho các cột chuỗi\n",
    "df = df.fillna({\n",
    "    \"Description\": \"No Description\",\n",
    "    \"Street\": \"Unknown\",\n",
    "    \"City\": \"Unknown\",\n",
    "    \"Weather_Condition\": \"Unknown\",\n",
    "    \"Wind_Direction\": \"Unknown\"\n",
    "})\n",
    "\n",
    "# Điền giá trị cho các cột boolean\n",
    "boolean_columns = [\n",
    "    \"Amenity\", \"Bump\", \"Crossing\", \"Give_Way\", \"Junction\", \"No_Exit\",\n",
    "    \"Railway\", \"Roundabout\", \"Station\", \"Stop\", \"Traffic_Calming\",\n",
    "    \"Traffic_Signal\", \"Turning_Loop\"\n",
    "]\n",
    "for col_name in boolean_columns:\n",
    "    df = df.withColumn(col_name, when(col(col_name).isNull(), lit(False)).otherwise(col(col_name)))\n",
    "\n",
    "# Điền giá trị cho các cột số liệu với giá trị trung bình\n",
    "numeric_columns = [\n",
    "    \"Distance(mi)\", \"Temperature(F)\", \"Wind_Chill(F)\",\n",
    "    \"Humidity(%)\", \"Pressure(in)\", \"Visibility(mi)\", \"Wind_Speed(mph)\",\n",
    "    \"Precipitation(in)\"\n",
    "]\n",
    "for col_name in numeric_columns:\n",
    "    mean_value = df.select(mean(col(col_name))).collect()[0][0]\n",
    "    df = df.withColumn(col_name, when(col(col_name).isNull(), lit(mean_value)).otherwise(col(col_name)))\n"
   ]
  },
  {
   "cell_type": "code",
   "execution_count": 13,
   "id": "60ead96a",
   "metadata": {},
   "outputs": [
    {
     "name": "stdout",
     "output_type": "stream",
     "text": [
      "+---+------+--------+----------+--------+---------+---------+------------+-----------+------+----+------+-----+-------+-------+--------+------------+-----------------+--------------+-------------+-----------+------------+--------------+--------------+---------------+-----------------+-----------------+-------+----+--------+--------+--------+-------+-------+----------+-------+----+---------------+--------------+------------+--------------+--------------+-----------------+---------------------+\n",
      "| ID|Source|Severity|Start_Time|End_Time|Start_Lat|Start_Lng|Distance(mi)|Description|Street|City|County|State|Zipcode|Country|Timezone|Airport_Code|Weather_Timestamp|Temperature(F)|Wind_Chill(F)|Humidity(%)|Pressure(in)|Visibility(mi)|Wind_Direction|Wind_Speed(mph)|Precipitation(in)|Weather_Condition|Amenity|Bump|Crossing|Give_Way|Junction|No_Exit|Railway|Roundabout|Station|Stop|Traffic_Calming|Traffic_Signal|Turning_Loop|Sunrise_Sunset|Civil_Twilight|Nautical_Twilight|Astronomical_Twilight|\n",
      "+---+------+--------+----------+--------+---------+---------+------------+-----------+------+----+------+-----+-------+-------+--------+------------+-----------------+--------------+-------------+-----------+------------+--------------+--------------+---------------+-----------------+-----------------+-------+----+--------+--------+--------+-------+-------+----------+-------+----+---------------+--------------+------------+--------------+--------------+-----------------+---------------------+\n",
      "|  0|     0|       0|         0|       0|        0|        0|           0|          0|     0|   0|     0|    0|      0|      0|       0|           0|                0|             0|            0|          0|           0|             0|             0|              0|                0|                0|      0|   0|       0|       0|       0|      0|      0|         0|      0|   0|              0|             0|           0|             0|             0|                0|                    0|\n",
      "+---+------+--------+----------+--------+---------+---------+------------+-----------+------+----+------+-----+-------+-------+--------+------------+-----------------+--------------+-------------+-----------+------------+--------------+--------------+---------------+-----------------+-----------------+-------+----+--------+--------+--------+-------+-------+----------+-------+----+---------------+--------------+------------+--------------+--------------+-----------------+---------------------+\n",
      "\n"
     ]
    }
   ],
   "source": [
    "# Điền giá trị dựa trên cột Start_Time\n",
    "df = df.withColumn(\n",
    "    \"Sunrise_Sunset\",\n",
    "    when(hour(\"Start_Time\").between(6, 18), \"Day\").otherwise(\"Night\")\n",
    ")\n",
    "\n",
    "df = df.withColumn(\n",
    "    \"Civil_Twilight\",\n",
    "    when(hour(\"Start_Time\").between(5, 19), \"Day\").otherwise(\"Night\")\n",
    ")\n",
    "df = df.withColumn(\n",
    "    \"Nautical_Twilight\",\n",
    "    when(hour(\"Start_Time\").between(4, 20), \"Day\").otherwise(\"Night\")\n",
    ")\n",
    "df = df.withColumn(\n",
    "    \"Astronomical_Twilight\",\n",
    "    when(hour(\"Start_Time\").between(3, 21), \"Day\").otherwise(\"Night\")\n",
    ")\n",
    "\n",
    "null_counts = df.select([sum(when(col(c).isNull(), 1).otherwise(0)).alias(c) for c in df.columns])\n",
    "\n",
    "# Hiển thị kết quả\n",
    "null_counts.show()"
   ]
  },
  {
   "cell_type": "code",
   "execution_count": 14,
   "id": "0678f104",
   "metadata": {},
   "outputs": [],
   "source": [
    "# Định dạng cột start_time\n",
    "df = df.withColumn(\"Start_Time\", date_format(\"Start_Time\", \"yyyy-MM-dd HH:mm:ss\"))\n",
    "df = df.withColumn(\"End_Time\", date_format(\"End_Time\", \"yyyy-MM-dd HH:mm:ss\"))\n",
    "df = df.withColumn(\"Weather_Timestamp\", date_format(\"Weather_Timestamp\", \"yyyy-MM-dd HH:mm:ss\"))"
   ]
  },
  {
   "cell_type": "code",
   "execution_count": 15,
   "id": "fa839bac",
   "metadata": {},
   "outputs": [],
   "source": [
    "output_path = \"dataset/CleanData\"  \n",
    "\n",
    "# Xuất DataFrame ra file CSV\n",
    "df.coalesce(1).write.csv(output_path, header=True, mode=\"overwrite\")"
   ]
  },
  {
   "cell_type": "code",
   "execution_count": 16,
   "id": "aa33c0fd",
   "metadata": {},
   "outputs": [],
   "source": [
    "# Kết thúc SparkSession\n",
    "spark.stop()"
   ]
  }
 ],
 "metadata": {
  "kernelspec": {
   "display_name": "Python 3 (ipykernel)",
   "language": "python",
   "name": "python3"
  },
  "language_info": {
   "codemirror_mode": {
    "name": "ipython",
    "version": 3
   },
   "file_extension": ".py",
   "mimetype": "text/x-python",
   "name": "python",
   "nbconvert_exporter": "python",
   "pygments_lexer": "ipython3",
   "version": "3.11.4"
  }
 },
 "nbformat": 4,
 "nbformat_minor": 5
}
