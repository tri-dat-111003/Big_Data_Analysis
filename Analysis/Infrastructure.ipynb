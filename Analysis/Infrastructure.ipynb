{
 "cells": [
  {
   "cell_type": "code",
   "execution_count": 1,
   "id": "80e61841",
   "metadata": {},
   "outputs": [],
   "source": [
    "from pyspark.sql import SparkSession\n",
    "from pyspark.sql.functions import *\n",
    "\n",
    "# Khởi tạo Spark session\n",
    "spark = SparkSession.builder.appName('Infras_Analysis').getOrCreate()\n",
    "\n",
    "# Đọc dữ liệu vào DataFrame\n",
    "df = spark.read.csv(\"dataset/CleanData/cleandata.csv\", header=True, inferSchema=True)\n",
    "\n",
    "# Chuyển đổi Start_Time thành kiểu dữ liệu timestamp\n",
    "df = df.withColumn(\"Start_Time\", to_timestamp(\"Start_Time\", \"M/d/yyyy H:mm\"))"
   ]
  },
  {
   "cell_type": "code",
   "execution_count": 2,
   "id": "97b751e9",
   "metadata": {},
   "outputs": [
    {
     "name": "stdout",
     "output_type": "stream",
     "text": [
      "root\n",
      " |-- ID: string (nullable = true)\n",
      " |-- Source: string (nullable = true)\n",
      " |-- Severity: string (nullable = true)\n",
      " |-- Start_Time: timestamp (nullable = true)\n",
      " |-- End_Time: timestamp (nullable = true)\n",
      " |-- Start_Lat: double (nullable = true)\n",
      " |-- Start_Lng: double (nullable = true)\n",
      " |-- Distance(mi): double (nullable = true)\n",
      " |-- Description: string (nullable = true)\n",
      " |-- Street: string (nullable = true)\n",
      " |-- City: string (nullable = true)\n",
      " |-- County: string (nullable = true)\n",
      " |-- State: string (nullable = true)\n",
      " |-- Zipcode: string (nullable = true)\n",
      " |-- Country: string (nullable = true)\n",
      " |-- Timezone: string (nullable = true)\n",
      " |-- Airport_Code: string (nullable = true)\n",
      " |-- Weather_Timestamp: timestamp (nullable = true)\n",
      " |-- Temperature(F): double (nullable = true)\n",
      " |-- Wind_Chill(F): double (nullable = true)\n",
      " |-- Humidity(%): double (nullable = true)\n",
      " |-- Pressure(in): double (nullable = true)\n",
      " |-- Visibility(mi): double (nullable = true)\n",
      " |-- Wind_Direction: string (nullable = true)\n",
      " |-- Wind_Speed(mph): double (nullable = true)\n",
      " |-- Precipitation(in): double (nullable = true)\n",
      " |-- Weather_Condition: string (nullable = true)\n",
      " |-- Amenity: boolean (nullable = true)\n",
      " |-- Bump: boolean (nullable = true)\n",
      " |-- Crossing: boolean (nullable = true)\n",
      " |-- Give_Way: boolean (nullable = true)\n",
      " |-- Junction: boolean (nullable = true)\n",
      " |-- No_Exit: boolean (nullable = true)\n",
      " |-- Railway: boolean (nullable = true)\n",
      " |-- Roundabout: boolean (nullable = true)\n",
      " |-- Station: boolean (nullable = true)\n",
      " |-- Stop: boolean (nullable = true)\n",
      " |-- Traffic_Calming: boolean (nullable = true)\n",
      " |-- Traffic_Signal: boolean (nullable = true)\n",
      " |-- Turning_Loop: boolean (nullable = true)\n",
      " |-- Sunrise_Sunset: string (nullable = true)\n",
      " |-- Civil_Twilight: string (nullable = true)\n",
      " |-- Nautical_Twilight: string (nullable = true)\n",
      " |-- Astronomical_Twilight: string (nullable = true)\n",
      "\n"
     ]
    },
    {
     "data": {
      "text/plain": [
       "492326"
      ]
     },
     "execution_count": 2,
     "metadata": {},
     "output_type": "execute_result"
    }
   ],
   "source": [
    "# Chuyển đổi Severity thành dạng text\n",
    "df = df.withColumn(\n",
    "    \"Severity\",\n",
    "    when(col(\"Severity\") == 1, \"Low\")\n",
    "    .when(col(\"Severity\") == 2, \"Moderate\")\n",
    "    .when(col(\"Severity\") == 3, \"High\")\n",
    "    .when(col(\"Severity\") == 4, \"Severe\")\n",
    ")\n",
    "df.printSchema()\n",
    "df.count()"
   ]
  },
  {
   "cell_type": "code",
   "execution_count": 3,
   "id": "ddf57095",
   "metadata": {},
   "outputs": [
    {
     "name": "stdout",
     "output_type": "stream",
     "text": [
      "+---------+--------+-------+----+--------+--------+--------+-------+-------+----------+-------+----+---------------+--------------+------------+\n",
      "|       ID|Severity|Amenity|Bump|Crossing|Give_Way|Junction|No_Exit|Railway|Roundabout|Station|Stop|Traffic_Calming|Traffic_Signal|Turning_Loop|\n",
      "+---------+--------+-------+----+--------+--------+--------+-------+-------+----------+-------+----+---------------+--------------+------------+\n",
      "|A-2047758|Moderate|      0|   0|       0|       0|       0|      0|      0|         0|      0|   0|              0|             1|           0|\n",
      "|A-4694324|Moderate|      0|   0|       0|       0|       0|      0|      0|         0|      0|   0|              0|             0|           0|\n",
      "|A-5006183|Moderate|      0|   0|       0|       0|       0|      0|      0|         0|      0|   0|              0|             1|           0|\n",
      "|A-4237356|Moderate|      0|   0|       0|       0|       0|      0|      0|         0|      0|   0|              0|             0|           0|\n",
      "|A-6690583|Moderate|      0|   0|       0|       0|       0|      0|      0|         0|      0|   0|              0|             0|           0|\n",
      "|A-1101469|Moderate|      0|   0|       0|       0|       0|      0|      0|         0|      0|   0|              0|             1|           0|\n",
      "|A-7222249|Moderate|      0|   0|       0|       0|       0|      0|      0|         0|      0|   0|              0|             0|           0|\n",
      "|A-6198239|Moderate|      0|   0|       0|       0|       0|      0|      0|         0|      0|   0|              0|             0|           0|\n",
      "|A-4222549|Moderate|      0|   0|       0|       0|       0|      0|      0|         0|      1|   0|              0|             0|           0|\n",
      "|A-5924038|Moderate|      0|   0|       0|       0|       0|      0|      0|         0|      0|   0|              0|             0|           0|\n",
      "| A-925338|Moderate|      0|   0|       0|       0|       0|      0|      0|         0|      0|   0|              0|             0|           0|\n",
      "|A-4908440|Moderate|      0|   0|       0|       0|       0|      0|      0|         0|      0|   0|              0|             0|           0|\n",
      "|A-1388988|Moderate|      0|   0|       0|       0|       0|      0|      0|         0|      0|   0|              0|             1|           0|\n",
      "|A-4535214|Moderate|      0|   0|       0|       0|       0|      0|      0|         0|      0|   0|              0|             0|           0|\n",
      "|A-2127689|Moderate|      0|   0|       1|       0|       0|      0|      0|         0|      0|   0|              0|             1|           0|\n",
      "|A-6609749|Moderate|      0|   0|       0|       0|       0|      0|      0|         0|      0|   0|              0|             0|           0|\n",
      "|A-6214306|Moderate|      0|   0|       0|       0|       0|      0|      0|         0|      0|   0|              0|             0|           0|\n",
      "|A-2881976|Moderate|      0|   0|       1|       0|       0|      0|      0|         0|      0|   0|              0|             1|           0|\n",
      "|A-2635201|Moderate|      0|   0|       1|       0|       0|      0|      0|         0|      1|   0|              0|             1|           0|\n",
      "|A-5659848|Moderate|      1|   0|       1|       0|       0|      0|      0|         0|      0|   0|              0|             1|           0|\n",
      "+---------+--------+-------+----+--------+--------+--------+-------+-------+----------+-------+----+---------------+--------------+------------+\n",
      "only showing top 20 rows\n",
      "\n"
     ]
    }
   ],
   "source": [
    "# Phân tích mức độ tai nạn theo cơ sở hạ tầng\n",
    "# Chuyển đổi các cột boolean thành số (1/0)\n",
    "boolean_columns = [\"Amenity\", \"Bump\", \"Crossing\", \"Give_Way\", \"Junction\", \"No_Exit\", \"Railway\", \n",
    "                   \"Roundabout\", \"Station\", \"Stop\", \"Traffic_Calming\", \"Traffic_Signal\", \"Turning_Loop\"]\n",
    "\n",
    "for col_name in boolean_columns:\n",
    "    df = df.withColumn(col_name, when(col(col_name) == True, 1).otherwise(0))\n",
    "\n",
    "# Xem dữ liệu đã xử lý\n",
    "accidents_by_infras = df.select(\"ID\", \"Severity\", *boolean_columns)\n",
    "accidents_by_infras.show()"
   ]
  },
  {
   "cell_type": "code",
   "execution_count": 4,
   "id": "07410633",
   "metadata": {},
   "outputs": [],
   "source": [
    "# Xuất ra file CSV\n",
    "accidents_by_infras.coalesce(1).write.csv(\"dataset/visualize_data/accidents_by_infras\", header=True, mode=\"overwrite\")"
   ]
  },
  {
   "cell_type": "code",
   "execution_count": 5,
   "id": "acc7d5cc",
   "metadata": {},
   "outputs": [],
   "source": [
    "#stop\n",
    "spark.stop()"
   ]
  }
 ],
 "metadata": {
  "kernelspec": {
   "display_name": "Python 3 (ipykernel)",
   "language": "python",
   "name": "python3"
  },
  "language_info": {
   "codemirror_mode": {
    "name": "ipython",
    "version": 3
   },
   "file_extension": ".py",
   "mimetype": "text/x-python",
   "name": "python",
   "nbconvert_exporter": "python",
   "pygments_lexer": "ipython3",
   "version": "3.11.4"
  }
 },
 "nbformat": 4,
 "nbformat_minor": 5
}
