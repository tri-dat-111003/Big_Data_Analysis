{
 "cells": [
  {
   "cell_type": "code",
   "execution_count": 1,
   "id": "4bae7bb5",
   "metadata": {},
   "outputs": [],
   "source": [
    "from pyspark.sql import SparkSession\n",
    "from pyspark.sql.functions import *\n",
    "\n",
    "# Khởi tạo Spark session\n",
    "spark = SparkSession.builder.appName('Weather_Analysis').getOrCreate()\n",
    "\n",
    "# Đọc dữ liệu vào DataFrame\n",
    "df = spark.read.csv(\"dataset/CleanData/cleandata.csv\", header=True, inferSchema=True)\n",
    "\n",
    "# Chuyển đổi Start_Time thành kiểu dữ liệu timestamp\n",
    "df = df.withColumn(\"Start_Time\", to_timestamp(\"Start_Time\", \"M/d/yyyy H:mm\"))"
   ]
  },
  {
   "cell_type": "code",
   "execution_count": 2,
   "id": "fa278332",
   "metadata": {},
   "outputs": [
    {
     "name": "stdout",
     "output_type": "stream",
     "text": [
      "root\n",
      " |-- ID: string (nullable = true)\n",
      " |-- Source: string (nullable = true)\n",
      " |-- Severity: string (nullable = true)\n",
      " |-- Start_Time: timestamp (nullable = true)\n",
      " |-- End_Time: timestamp (nullable = true)\n",
      " |-- Start_Lat: double (nullable = true)\n",
      " |-- Start_Lng: double (nullable = true)\n",
      " |-- Distance(mi): double (nullable = true)\n",
      " |-- Description: string (nullable = true)\n",
      " |-- Street: string (nullable = true)\n",
      " |-- City: string (nullable = true)\n",
      " |-- County: string (nullable = true)\n",
      " |-- State: string (nullable = true)\n",
      " |-- Zipcode: string (nullable = true)\n",
      " |-- Country: string (nullable = true)\n",
      " |-- Timezone: string (nullable = true)\n",
      " |-- Airport_Code: string (nullable = true)\n",
      " |-- Weather_Timestamp: timestamp (nullable = true)\n",
      " |-- Temperature(F): double (nullable = true)\n",
      " |-- Wind_Chill(F): double (nullable = true)\n",
      " |-- Humidity(%): double (nullable = true)\n",
      " |-- Pressure(in): double (nullable = true)\n",
      " |-- Visibility(mi): double (nullable = true)\n",
      " |-- Wind_Direction: string (nullable = true)\n",
      " |-- Wind_Speed(mph): double (nullable = true)\n",
      " |-- Precipitation(in): double (nullable = true)\n",
      " |-- Weather_Condition: string (nullable = true)\n",
      " |-- Amenity: boolean (nullable = true)\n",
      " |-- Bump: boolean (nullable = true)\n",
      " |-- Crossing: boolean (nullable = true)\n",
      " |-- Give_Way: boolean (nullable = true)\n",
      " |-- Junction: boolean (nullable = true)\n",
      " |-- No_Exit: boolean (nullable = true)\n",
      " |-- Railway: boolean (nullable = true)\n",
      " |-- Roundabout: boolean (nullable = true)\n",
      " |-- Station: boolean (nullable = true)\n",
      " |-- Stop: boolean (nullable = true)\n",
      " |-- Traffic_Calming: boolean (nullable = true)\n",
      " |-- Traffic_Signal: boolean (nullable = true)\n",
      " |-- Turning_Loop: boolean (nullable = true)\n",
      " |-- Sunrise_Sunset: string (nullable = true)\n",
      " |-- Civil_Twilight: string (nullable = true)\n",
      " |-- Nautical_Twilight: string (nullable = true)\n",
      " |-- Astronomical_Twilight: string (nullable = true)\n",
      "\n"
     ]
    },
    {
     "data": {
      "text/plain": [
       "492326"
      ]
     },
     "execution_count": 2,
     "metadata": {},
     "output_type": "execute_result"
    }
   ],
   "source": [
    "# Chuyển đổi Severity thành dạng text\n",
    "df = df.withColumn(\n",
    "    \"Severity\",\n",
    "    when(col(\"Severity\") == 1, \"Low\")\n",
    "    .when(col(\"Severity\") == 2, \"Moderate\")\n",
    "    .when(col(\"Severity\") == 3, \"High\")\n",
    "    .when(col(\"Severity\") == 4, \"Severe\")\n",
    ")\n",
    "df.printSchema()\n",
    "df.count()"
   ]
  },
  {
   "cell_type": "code",
   "execution_count": 3,
   "id": "12091fc6",
   "metadata": {},
   "outputs": [
    {
     "name": "stdout",
     "output_type": "stream",
     "text": [
      "+--------+------------------+-----------------+------------------+\n",
      "|Severity|   Avg_Temperature|   Avg_Visibility|     Avg_WindSpeed|\n",
      "+--------+------------------+-----------------+------------------+\n",
      "|    High|  62.2155888757205|9.111724321085584| 8.257717716592467|\n",
      "|     Low| 72.19688657537068|9.520051882824763| 7.077954744936069|\n",
      "|  Severe|58.231902150944954| 9.09713639947612| 7.654875313408872|\n",
      "|Moderate| 61.52252127932248|9.082440646316048|7.5660346799014935|\n",
      "+--------+------------------+-----------------+------------------+\n",
      "\n"
     ]
    }
   ],
   "source": [
    "# Phân tích mức độ tai nạn theo thời tiết\n",
    "weather_analysis = df.groupBy(\"Severity\").agg(\n",
    "    avg(\"Temperature(F)\").alias(\"Avg_Temperature\"),\n",
    "    avg(\"Visibility(mi)\").alias(\"Avg_Visibility\"),\n",
    "    avg(\"Wind_Speed(mph)\").alias(\"Avg_WindSpeed\")\n",
    ")\n",
    "weather_analysis.show()"
   ]
  },
  {
   "cell_type": "code",
   "execution_count": 4,
   "id": "25367731",
   "metadata": {},
   "outputs": [],
   "source": [
    "# xuất ra file csv\n",
    "weather_analysis.coalesce(1).write.csv(\"dataset/visualize_data/weather_analysis\", header=True, mode=\"overwrite\")"
   ]
  },
  {
   "cell_type": "code",
   "execution_count": 5,
   "id": "e945c1d9",
   "metadata": {},
   "outputs": [],
   "source": [
    "#stop\n",
    "spark.stop()"
   ]
  }
 ],
 "metadata": {
  "kernelspec": {
   "display_name": "Python 3 (ipykernel)",
   "language": "python",
   "name": "python3"
  },
  "language_info": {
   "codemirror_mode": {
    "name": "ipython",
    "version": 3
   },
   "file_extension": ".py",
   "mimetype": "text/x-python",
   "name": "python",
   "nbconvert_exporter": "python",
   "pygments_lexer": "ipython3",
   "version": "3.11.4"
  }
 },
 "nbformat": 4,
 "nbformat_minor": 5
}
