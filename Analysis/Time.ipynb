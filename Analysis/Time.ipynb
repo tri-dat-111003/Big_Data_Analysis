{
 "cells": [
  {
   "cell_type": "code",
   "execution_count": 1,
   "id": "41e42fa4",
   "metadata": {},
   "outputs": [],
   "source": [
    "from pyspark.sql import SparkSession\n",
    "from pyspark.sql.functions import *\n",
    "\n",
    "# Khởi tạo Spark session\n",
    "spark = SparkSession.builder.appName('Time_Analysis').getOrCreate()\n",
    "\n",
    "# Đọc dữ liệu vào DataFrame\n",
    "df = spark.read.csv(\"dataset/CleanData/cleandata.csv\", header=True, inferSchema=True)\n",
    "\n",
    "# Chuyển đổi Start_Time thành kiểu dữ liệu timestamp\n",
    "df = df.withColumn(\"Start_Time\", to_timestamp(\"Start_Time\", \"M/d/yyyy H:mm\"))"
   ]
  },
  {
   "cell_type": "code",
   "execution_count": 2,
   "id": "e5ca6bc9",
   "metadata": {},
   "outputs": [
    {
     "name": "stdout",
     "output_type": "stream",
     "text": [
      "root\n",
      " |-- ID: string (nullable = true)\n",
      " |-- Source: string (nullable = true)\n",
      " |-- Severity: string (nullable = true)\n",
      " |-- Start_Time: timestamp (nullable = true)\n",
      " |-- End_Time: timestamp (nullable = true)\n",
      " |-- Start_Lat: double (nullable = true)\n",
      " |-- Start_Lng: double (nullable = true)\n",
      " |-- Distance(mi): double (nullable = true)\n",
      " |-- Description: string (nullable = true)\n",
      " |-- Street: string (nullable = true)\n",
      " |-- City: string (nullable = true)\n",
      " |-- County: string (nullable = true)\n",
      " |-- State: string (nullable = true)\n",
      " |-- Zipcode: string (nullable = true)\n",
      " |-- Country: string (nullable = true)\n",
      " |-- Timezone: string (nullable = true)\n",
      " |-- Airport_Code: string (nullable = true)\n",
      " |-- Weather_Timestamp: timestamp (nullable = true)\n",
      " |-- Temperature(F): double (nullable = true)\n",
      " |-- Wind_Chill(F): double (nullable = true)\n",
      " |-- Humidity(%): double (nullable = true)\n",
      " |-- Pressure(in): double (nullable = true)\n",
      " |-- Visibility(mi): double (nullable = true)\n",
      " |-- Wind_Direction: string (nullable = true)\n",
      " |-- Wind_Speed(mph): double (nullable = true)\n",
      " |-- Precipitation(in): double (nullable = true)\n",
      " |-- Weather_Condition: string (nullable = true)\n",
      " |-- Amenity: boolean (nullable = true)\n",
      " |-- Bump: boolean (nullable = true)\n",
      " |-- Crossing: boolean (nullable = true)\n",
      " |-- Give_Way: boolean (nullable = true)\n",
      " |-- Junction: boolean (nullable = true)\n",
      " |-- No_Exit: boolean (nullable = true)\n",
      " |-- Railway: boolean (nullable = true)\n",
      " |-- Roundabout: boolean (nullable = true)\n",
      " |-- Station: boolean (nullable = true)\n",
      " |-- Stop: boolean (nullable = true)\n",
      " |-- Traffic_Calming: boolean (nullable = true)\n",
      " |-- Traffic_Signal: boolean (nullable = true)\n",
      " |-- Turning_Loop: boolean (nullable = true)\n",
      " |-- Sunrise_Sunset: string (nullable = true)\n",
      " |-- Civil_Twilight: string (nullable = true)\n",
      " |-- Nautical_Twilight: string (nullable = true)\n",
      " |-- Astronomical_Twilight: string (nullable = true)\n",
      "\n"
     ]
    },
    {
     "data": {
      "text/plain": [
       "492326"
      ]
     },
     "execution_count": 2,
     "metadata": {},
     "output_type": "execute_result"
    }
   ],
   "source": [
    "# Chuyển đổi Severity thành dạng text\n",
    "df = df.withColumn(\n",
    "    \"Severity\",\n",
    "    when(col(\"Severity\") == 1, \"Low\")\n",
    "    .when(col(\"Severity\") == 2, \"Moderate\")\n",
    "    .when(col(\"Severity\") == 3, \"High\")\n",
    "    .when(col(\"Severity\") == 4, \"Severe\")\n",
    ")\n",
    "df.printSchema()\n",
    "df.count()"
   ]
  },
  {
   "cell_type": "code",
   "execution_count": 3,
   "id": "24ed73db",
   "metadata": {},
   "outputs": [],
   "source": [
    "df = df.withColumn(\"Hour\", hour(\"Start_Time\"))\n",
    "df = df.withColumn(\"Day\", dayofweek(\"Start_Time\"))\n",
    "df = df.withColumn(\"Month\", month(\"Start_Time\"))\n",
    "df = df.withColumn(\"Year\", year(\"Start_Time\"))"
   ]
  },
  {
   "cell_type": "code",
   "execution_count": 4,
   "id": "3fced5a1",
   "metadata": {},
   "outputs": [
    {
     "name": "stdout",
     "output_type": "stream",
     "text": [
      "+----+-----+---+----+--------+-----+\n",
      "|Year|Month|Day|Hour|Severity|count|\n",
      "+----+-----+---+----+--------+-----+\n",
      "|2016|    9|  3|  10|    High|   21|\n",
      "|2021|    9|  3|  20|Moderate|   18|\n",
      "|2017|    7|  6|  13|Moderate|   26|\n",
      "|2020|    4|  6|   6|Moderate|   39|\n",
      "|2019|   12|  6|  16|Moderate|   58|\n",
      "|2021|   11|  3|   6|    High|   10|\n",
      "|2021|    8|  6|  12|Moderate|   57|\n",
      "|2018|    9|  3|  15|Moderate|   31|\n",
      "|2016|    6|  3|  18|    High|    4|\n",
      "|2017|    1|  3|  13|Moderate|   23|\n",
      "|2020|   10|  7|   7|Moderate|   37|\n",
      "|2019|   10|  5|   7|Moderate|  123|\n",
      "|2020|    2|  5|   3|    High|    2|\n",
      "|2019|   11|  4|   5|    High|   10|\n",
      "|2020|    1|  2|  19|Moderate|   19|\n",
      "|2020|    3|  1|  15|Moderate|   18|\n",
      "|2021|    4|  3|   9|Moderate|   40|\n",
      "|2022|    3|  7|   6|    High|    2|\n",
      "|2022|    4|  4|  18|     Low|    3|\n",
      "|2018|    1|  3|  18|Moderate|   36|\n",
      "+----+-----+---+----+--------+-----+\n",
      "only showing top 20 rows\n",
      "\n"
     ]
    }
   ],
   "source": [
    "# Phân tích mức độ tai nạn theo thời gian\n",
    "accidents_by_time = df.groupBy(\"Year\", \"Month\", \"Day\", \"Hour\", \"Severity\").count()\n",
    "accidents_by_time.show()"
   ]
  },
  {
   "cell_type": "code",
   "execution_count": 5,
   "id": "7bc2daa7",
   "metadata": {},
   "outputs": [],
   "source": [
    "# Xuất ra file csv\n",
    "accidents_by_time.coalesce(1).write.csv(\"dataset/visualize_data/accidents_by_time\", header=True, mode=\"overwrite\")"
   ]
  },
  {
   "cell_type": "code",
   "execution_count": 6,
   "id": "06bb6b95",
   "metadata": {},
   "outputs": [],
   "source": [
    "#stop\n",
    "spark.stop()"
   ]
  }
 ],
 "metadata": {
  "kernelspec": {
   "display_name": "Python 3 (ipykernel)",
   "language": "python",
   "name": "python3"
  },
  "language_info": {
   "codemirror_mode": {
    "name": "ipython",
    "version": 3
   },
   "file_extension": ".py",
   "mimetype": "text/x-python",
   "name": "python",
   "nbconvert_exporter": "python",
   "pygments_lexer": "ipython3",
   "version": "3.11.4"
  }
 },
 "nbformat": 4,
 "nbformat_minor": 5
}
