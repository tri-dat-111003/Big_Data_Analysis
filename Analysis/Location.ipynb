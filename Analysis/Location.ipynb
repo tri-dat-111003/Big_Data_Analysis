{
 "cells": [
  {
   "cell_type": "code",
   "execution_count": 1,
   "id": "7b6e7afe",
   "metadata": {},
   "outputs": [],
   "source": [
    "from pyspark.sql import SparkSession\n",
    "from pyspark.sql.functions import *\n",
    "\n",
    "# Khởi tạo Spark session\n",
    "spark = SparkSession.builder.appName('Location_Analysis').getOrCreate()\n",
    "\n",
    "# Đọc dữ liệu vào DataFrame\n",
    "df = spark.read.csv(\"dataset/CleanData/cleandata.csv\", header=True, inferSchema=True)\n",
    "\n",
    "# Chuyển đổi Start_Time thành kiểu dữ liệu timestamp\n",
    "df = df.withColumn(\"Start_Time\", to_timestamp(\"Start_Time\", \"M/d/yyyy H:mm\"))"
   ]
  },
  {
   "cell_type": "code",
   "execution_count": 2,
   "id": "4ff766e1",
   "metadata": {},
   "outputs": [
    {
     "name": "stdout",
     "output_type": "stream",
     "text": [
      "root\n",
      " |-- ID: string (nullable = true)\n",
      " |-- Source: string (nullable = true)\n",
      " |-- Severity: string (nullable = true)\n",
      " |-- Start_Time: timestamp (nullable = true)\n",
      " |-- End_Time: timestamp (nullable = true)\n",
      " |-- Start_Lat: double (nullable = true)\n",
      " |-- Start_Lng: double (nullable = true)\n",
      " |-- Distance(mi): double (nullable = true)\n",
      " |-- Description: string (nullable = true)\n",
      " |-- Street: string (nullable = true)\n",
      " |-- City: string (nullable = true)\n",
      " |-- County: string (nullable = true)\n",
      " |-- State: string (nullable = true)\n",
      " |-- Zipcode: string (nullable = true)\n",
      " |-- Country: string (nullable = true)\n",
      " |-- Timezone: string (nullable = true)\n",
      " |-- Airport_Code: string (nullable = true)\n",
      " |-- Weather_Timestamp: timestamp (nullable = true)\n",
      " |-- Temperature(F): double (nullable = true)\n",
      " |-- Wind_Chill(F): double (nullable = true)\n",
      " |-- Humidity(%): double (nullable = true)\n",
      " |-- Pressure(in): double (nullable = true)\n",
      " |-- Visibility(mi): double (nullable = true)\n",
      " |-- Wind_Direction: string (nullable = true)\n",
      " |-- Wind_Speed(mph): double (nullable = true)\n",
      " |-- Precipitation(in): double (nullable = true)\n",
      " |-- Weather_Condition: string (nullable = true)\n",
      " |-- Amenity: boolean (nullable = true)\n",
      " |-- Bump: boolean (nullable = true)\n",
      " |-- Crossing: boolean (nullable = true)\n",
      " |-- Give_Way: boolean (nullable = true)\n",
      " |-- Junction: boolean (nullable = true)\n",
      " |-- No_Exit: boolean (nullable = true)\n",
      " |-- Railway: boolean (nullable = true)\n",
      " |-- Roundabout: boolean (nullable = true)\n",
      " |-- Station: boolean (nullable = true)\n",
      " |-- Stop: boolean (nullable = true)\n",
      " |-- Traffic_Calming: boolean (nullable = true)\n",
      " |-- Traffic_Signal: boolean (nullable = true)\n",
      " |-- Turning_Loop: boolean (nullable = true)\n",
      " |-- Sunrise_Sunset: string (nullable = true)\n",
      " |-- Civil_Twilight: string (nullable = true)\n",
      " |-- Nautical_Twilight: string (nullable = true)\n",
      " |-- Astronomical_Twilight: string (nullable = true)\n",
      "\n"
     ]
    },
    {
     "data": {
      "text/plain": [
       "492326"
      ]
     },
     "execution_count": 2,
     "metadata": {},
     "output_type": "execute_result"
    }
   ],
   "source": [
    "# Chuyển đổi Severity thành dạng text\n",
    "df = df.withColumn(\n",
    "    \"Severity\",\n",
    "    when(col(\"Severity\") == 1, \"Low\")\n",
    "    .when(col(\"Severity\") == 2, \"Moderate\")\n",
    "    .when(col(\"Severity\") == 3, \"High\")\n",
    "    .when(col(\"Severity\") == 4, \"Severe\")\n",
    ")\n",
    "df.printSchema()\n",
    "df.count()"
   ]
  },
  {
   "cell_type": "code",
   "execution_count": 3,
   "id": "28afd797",
   "metadata": {},
   "outputs": [
    {
     "name": "stdout",
     "output_type": "stream",
     "text": [
      "+-----+-------------+--------+-----+\n",
      "|State|         City|Severity|count|\n",
      "+-----+-------------+--------+-----+\n",
      "|   CA|    San Diego|Moderate| 2757|\n",
      "|   MN|   Albert Lea|Moderate|   62|\n",
      "|   CA|  Bakersfield|  Severe|   14|\n",
      "|   CA|    San Dimas|Moderate|  195|\n",
      "|   CA|  West Covina|Moderate|  265|\n",
      "|   CA|        Vista|Moderate|  251|\n",
      "|   VA|      Henrico|    High|   45|\n",
      "|   IL|Downers Grove|Moderate|  167|\n",
      "|   SC|         York|Moderate|   79|\n",
      "|   MT|       Hysham|Moderate|    1|\n",
      "|   CA|       Orland|Moderate|   42|\n",
      "|   GA|      Zebulon|    High|    1|\n",
      "|   CA|       Oxnard|Moderate|  206|\n",
      "|   NJ| Little Falls|Moderate|   24|\n",
      "|   LA|      Convent|Moderate|    1|\n",
      "|   IL| Vernon Hills|Moderate|   49|\n",
      "|   CA|      Oakdale|Moderate|   91|\n",
      "|   MA|  West Newton|Moderate|    9|\n",
      "|   PA|Port Allegany|Moderate|    2|\n",
      "|   CA|      Truckee|    High|   11|\n",
      "+-----+-------------+--------+-----+\n",
      "only showing top 20 rows\n",
      "\n"
     ]
    }
   ],
   "source": [
    "# Phân tích mức độ tai nạn theo địa lý\n",
    "accidents_by_geolocation = df.groupBy(\"State\", \"City\", \"Severity\").count()\n",
    "accidents_by_geolocation.show()"
   ]
  },
  {
   "cell_type": "code",
   "execution_count": 4,
   "id": "9f3127bd",
   "metadata": {},
   "outputs": [],
   "source": [
    "# Xuất ra file CSV\n",
    "accidents_by_geolocation.coalesce(1).write.csv(\"dataset/visualize_data/accidents_by_geolocation\", header=True, mode=\"overwrite\")"
   ]
  },
  {
   "cell_type": "code",
   "execution_count": 5,
   "id": "ee12e96e",
   "metadata": {},
   "outputs": [],
   "source": [
    "#stop\n",
    "spark.stop()"
   ]
  }
 ],
 "metadata": {
  "kernelspec": {
   "display_name": "Python 3 (ipykernel)",
   "language": "python",
   "name": "python3"
  },
  "language_info": {
   "codemirror_mode": {
    "name": "ipython",
    "version": 3
   },
   "file_extension": ".py",
   "mimetype": "text/x-python",
   "name": "python",
   "nbconvert_exporter": "python",
   "pygments_lexer": "ipython3",
   "version": "3.11.4"
  }
 },
 "nbformat": 4,
 "nbformat_minor": 5
}
